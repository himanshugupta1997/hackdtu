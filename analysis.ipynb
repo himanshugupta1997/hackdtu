{
 "cells": [
  {
   "cell_type": "code",
   "execution_count": 1,
   "metadata": {
    "collapsed": true,
    "deletable": true,
    "editable": true
   },
   "outputs": [],
   "source": [
    "import pandas as pd\n",
    "from sklearn.neural_network import MLPClassifier\n",
    "from sklearn.linear_model import LogisticRegression\n",
    "from sklearn.preprocessing import normalize\n",
    "from sklearn.naive_bayes import GaussianNB"
   ]
  },
  {
   "cell_type": "code",
   "execution_count": 2,
   "metadata": {
    "collapsed": false,
    "deletable": true,
    "editable": true
   },
   "outputs": [],
   "source": [
    "data = pd.read_csv('data.csv')\n",
    "data['Sex'] = data['Sex'].map( {'M':1, 'F':0} ) \n",
    "data.Latitude = (data.Latitude-data.Latitude.mean())/data.Latitude.std()\n",
    "data.Longitude = (data.Longitude-data.Longitude.mean())/data.Longitude.std()\n",
    "data.Age = (data.Age-data.Age.mean())/data.Age.std()"
   ]
  },
  {
   "cell_type": "code",
   "execution_count": 3,
   "metadata": {
    "collapsed": false,
    "deletable": true,
    "editable": true
   },
   "outputs": [
    {
     "data": {
      "text/html": [
       "<div>\n",
       "<style>\n",
       "    .dataframe thead tr:only-child th {\n",
       "        text-align: right;\n",
       "    }\n",
       "\n",
       "    .dataframe thead th {\n",
       "        text-align: left;\n",
       "    }\n",
       "\n",
       "    .dataframe tbody tr th {\n",
       "        vertical-align: top;\n",
       "    }\n",
       "</style>\n",
       "<table border=\"1\" class=\"dataframe\">\n",
       "  <thead>\n",
       "    <tr style=\"text-align: right;\">\n",
       "      <th></th>\n",
       "      <th>Age</th>\n",
       "      <th>Sex</th>\n",
       "      <th>Disease</th>\n",
       "      <th>Latitude</th>\n",
       "      <th>Longitude</th>\n",
       "    </tr>\n",
       "  </thead>\n",
       "  <tbody>\n",
       "    <tr>\n",
       "      <th>0</th>\n",
       "      <td>-0.174526</td>\n",
       "      <td>1</td>\n",
       "      <td>Dengue</td>\n",
       "      <td>0.140744</td>\n",
       "      <td>-0.134466</td>\n",
       "    </tr>\n",
       "    <tr>\n",
       "      <th>1</th>\n",
       "      <td>-0.091419</td>\n",
       "      <td>1</td>\n",
       "      <td>Dengue</td>\n",
       "      <td>0.140744</td>\n",
       "      <td>-0.134466</td>\n",
       "    </tr>\n",
       "    <tr>\n",
       "      <th>2</th>\n",
       "      <td>-1.005604</td>\n",
       "      <td>1</td>\n",
       "      <td>Pneumonia</td>\n",
       "      <td>0.140744</td>\n",
       "      <td>-0.134466</td>\n",
       "    </tr>\n",
       "    <tr>\n",
       "      <th>3</th>\n",
       "      <td>-0.590065</td>\n",
       "      <td>1</td>\n",
       "      <td>Dengue</td>\n",
       "      <td>0.140744</td>\n",
       "      <td>-0.134466</td>\n",
       "    </tr>\n",
       "    <tr>\n",
       "      <th>4</th>\n",
       "      <td>-1.171819</td>\n",
       "      <td>1</td>\n",
       "      <td>Dengue</td>\n",
       "      <td>0.140744</td>\n",
       "      <td>-0.134466</td>\n",
       "    </tr>\n",
       "  </tbody>\n",
       "</table>\n",
       "</div>"
      ],
      "text/plain": [
       "        Age  Sex    Disease  Latitude  Longitude\n",
       "0 -0.174526    1     Dengue  0.140744  -0.134466\n",
       "1 -0.091419    1     Dengue  0.140744  -0.134466\n",
       "2 -1.005604    1  Pneumonia  0.140744  -0.134466\n",
       "3 -0.590065    1     Dengue  0.140744  -0.134466\n",
       "4 -1.171819    1     Dengue  0.140744  -0.134466"
      ]
     },
     "execution_count": 3,
     "metadata": {},
     "output_type": "execute_result"
    }
   ],
   "source": [
    "# sample data from hospitals\n",
    "data.head()"
   ]
  },
  {
   "cell_type": "code",
   "execution_count": 4,
   "metadata": {
    "collapsed": false,
    "deletable": true,
    "editable": true
   },
   "outputs": [],
   "source": [
    "X = data[['Age', 'Sex', 'Latitude', 'Longitude']]\n",
    "y = data['Disease']"
   ]
  },
  {
   "cell_type": "code",
   "execution_count": 5,
   "metadata": {
    "collapsed": true,
    "deletable": true,
    "editable": true
   },
   "outputs": [],
   "source": [
    "clf3 = GaussianNB()"
   ]
  },
  {
   "cell_type": "code",
   "execution_count": 6,
   "metadata": {
    "collapsed": true,
    "deletable": true,
    "editable": true
   },
   "outputs": [],
   "source": [
    "clf2 = LogisticRegression(max_iter = 10000)"
   ]
  },
  {
   "cell_type": "code",
   "execution_count": 7,
   "metadata": {
    "collapsed": false,
    "deletable": true,
    "editable": true
   },
   "outputs": [],
   "source": [
    "clf =  MLPClassifier(solver='adam', alpha=1e-5,\n",
    "                    hidden_layer_sizes=(5, 2), random_state=1, max_iter = 1000000)"
   ]
  },
  {
   "cell_type": "code",
   "execution_count": 8,
   "metadata": {
    "collapsed": false,
    "deletable": true,
    "editable": true
   },
   "outputs": [
    {
     "data": {
      "text/plain": [
       "MLPClassifier(activation='relu', alpha=1e-05, batch_size='auto', beta_1=0.9,\n",
       "       beta_2=0.999, early_stopping=False, epsilon=1e-08,\n",
       "       hidden_layer_sizes=(5, 2), learning_rate='constant',\n",
       "       learning_rate_init=0.001, max_iter=1000000, momentum=0.9,\n",
       "       nesterovs_momentum=True, power_t=0.5, random_state=1, shuffle=True,\n",
       "       solver='adam', tol=0.0001, validation_fraction=0.1, verbose=False,\n",
       "       warm_start=False)"
      ]
     },
     "execution_count": 8,
     "metadata": {},
     "output_type": "execute_result"
    }
   ],
   "source": [
    "clf.fit(X,y)"
   ]
  },
  {
   "cell_type": "code",
   "execution_count": 15,
   "metadata": {
    "collapsed": false,
    "deletable": true,
    "editable": true
   },
   "outputs": [],
   "source": [
    "users = pd.read_csv('users.csv')\n",
    "users.Birthday = pd.to_datetime('today') - pd.to_datetime(users.Birthday, format='%d/%m/%y')\n",
    "users['Age'] = (users.Birthday-users.Birthday.mean())/users.Birthday.std()\n",
    "users['Sex'] = users['Sex'].map( {'M':1, 'F':0} ) \n",
    "users.Latitude = (users.Latitude-users.Latitude.mean())/users.Latitude.std()\n",
    "users.Longitude = (users.Longitude-users.Longitude.mean())/users.Longitude.std()"
   ]
  },
  {
   "cell_type": "code",
   "execution_count": 16,
   "metadata": {
    "collapsed": false,
    "deletable": true,
    "editable": true
   },
   "outputs": [
    {
     "data": {
      "text/html": [
       "<div>\n",
       "<style>\n",
       "    .dataframe thead tr:only-child th {\n",
       "        text-align: right;\n",
       "    }\n",
       "\n",
       "    .dataframe thead th {\n",
       "        text-align: left;\n",
       "    }\n",
       "\n",
       "    .dataframe tbody tr th {\n",
       "        vertical-align: top;\n",
       "    }\n",
       "</style>\n",
       "<table border=\"1\" class=\"dataframe\">\n",
       "  <thead>\n",
       "    <tr style=\"text-align: right;\">\n",
       "      <th></th>\n",
       "      <th>Phone Number</th>\n",
       "      <th>Latitude</th>\n",
       "      <th>Longitude</th>\n",
       "      <th>Birthday</th>\n",
       "      <th>Sex</th>\n",
       "      <th>Age</th>\n",
       "    </tr>\n",
       "  </thead>\n",
       "  <tbody>\n",
       "    <tr>\n",
       "      <th>0</th>\n",
       "      <td>7042040870</td>\n",
       "      <td>0.682598</td>\n",
       "      <td>0.312830</td>\n",
       "      <td>7350 days</td>\n",
       "      <td>1</td>\n",
       "      <td>-0.749946</td>\n",
       "    </tr>\n",
       "    <tr>\n",
       "      <th>1</th>\n",
       "      <td>7836913485</td>\n",
       "      <td>0.691419</td>\n",
       "      <td>0.304962</td>\n",
       "      <td>7358 days</td>\n",
       "      <td>1</td>\n",
       "      <td>-0.746041</td>\n",
       "    </tr>\n",
       "    <tr>\n",
       "      <th>2</th>\n",
       "      <td>9582214588</td>\n",
       "      <td>0.686886</td>\n",
       "      <td>-1.699131</td>\n",
       "      <td>10006 days</td>\n",
       "      <td>0</td>\n",
       "      <td>0.546498</td>\n",
       "    </tr>\n",
       "    <tr>\n",
       "      <th>3</th>\n",
       "      <td>9582214589</td>\n",
       "      <td>-0.550595</td>\n",
       "      <td>0.129914</td>\n",
       "      <td>11974 days</td>\n",
       "      <td>1</td>\n",
       "      <td>1.507116</td>\n",
       "    </tr>\n",
       "    <tr>\n",
       "      <th>4</th>\n",
       "      <td>9582245158</td>\n",
       "      <td>-1.510308</td>\n",
       "      <td>0.951426</td>\n",
       "      <td>7744 days</td>\n",
       "      <td>0</td>\n",
       "      <td>-0.557627</td>\n",
       "    </tr>\n",
       "  </tbody>\n",
       "</table>\n",
       "</div>"
      ],
      "text/plain": [
       "   Phone Number  Latitude  Longitude   Birthday  Sex       Age\n",
       "0    7042040870  0.682598   0.312830  7350 days    1 -0.749946\n",
       "1    7836913485  0.691419   0.304962  7358 days    1 -0.746041\n",
       "2    9582214588  0.686886  -1.699131 10006 days    0  0.546498\n",
       "3    9582214589 -0.550595   0.129914 11974 days    1  1.507116\n",
       "4    9582245158 -1.510308   0.951426  7744 days    0 -0.557627"
      ]
     },
     "execution_count": 16,
     "metadata": {},
     "output_type": "execute_result"
    }
   ],
   "source": [
    "# sample data of registered users\n",
    "users.head()"
   ]
  },
  {
   "cell_type": "code",
   "execution_count": 17,
   "metadata": {
    "collapsed": false,
    "deletable": true,
    "editable": true
   },
   "outputs": [],
   "source": [
    "test = users[['Age', 'Sex', 'Latitude', 'Longitude']]"
   ]
  },
  {
   "cell_type": "code",
   "execution_count": 18,
   "metadata": {
    "collapsed": false,
    "deletable": true,
    "editable": true
   },
   "outputs": [
    {
     "name": "stderr",
     "output_type": "stream",
     "text": [
      "/home/nikhil/.local/lib/python3.5/site-packages/ipykernel/__main__.py:1: SettingWithCopyWarning: \n",
      "A value is trying to be set on a copy of a slice from a DataFrame.\n",
      "Try using .loc[row_indexer,col_indexer] = value instead\n",
      "\n",
      "See the caveats in the documentation: http://pandas.pydata.org/pandas-docs/stable/indexing.html#indexing-view-versus-copy\n",
      "  if __name__ == '__main__':\n"
     ]
    }
   ],
   "source": [
    "test['Prediction'] = clf.predict(test)"
   ]
  },
  {
   "cell_type": "code",
   "execution_count": 19,
   "metadata": {
    "collapsed": false,
    "deletable": true,
    "editable": true,
    "scrolled": false
   },
   "outputs": [
    {
     "data": {
      "text/html": [
       "<div>\n",
       "<style>\n",
       "    .dataframe thead tr:only-child th {\n",
       "        text-align: right;\n",
       "    }\n",
       "\n",
       "    .dataframe thead th {\n",
       "        text-align: left;\n",
       "    }\n",
       "\n",
       "    .dataframe tbody tr th {\n",
       "        vertical-align: top;\n",
       "    }\n",
       "</style>\n",
       "<table border=\"1\" class=\"dataframe\">\n",
       "  <thead>\n",
       "    <tr style=\"text-align: right;\">\n",
       "      <th></th>\n",
       "      <th>Age</th>\n",
       "      <th>Sex</th>\n",
       "      <th>Latitude</th>\n",
       "      <th>Longitude</th>\n",
       "      <th>Prediction</th>\n",
       "    </tr>\n",
       "  </thead>\n",
       "  <tbody>\n",
       "    <tr>\n",
       "      <th>0</th>\n",
       "      <td>-0.749946</td>\n",
       "      <td>1</td>\n",
       "      <td>0.682598</td>\n",
       "      <td>0.312830</td>\n",
       "      <td>Dermatitis</td>\n",
       "    </tr>\n",
       "    <tr>\n",
       "      <th>1</th>\n",
       "      <td>-0.746041</td>\n",
       "      <td>1</td>\n",
       "      <td>0.691419</td>\n",
       "      <td>0.304962</td>\n",
       "      <td>Dermatitis</td>\n",
       "    </tr>\n",
       "    <tr>\n",
       "      <th>2</th>\n",
       "      <td>0.546498</td>\n",
       "      <td>0</td>\n",
       "      <td>0.686886</td>\n",
       "      <td>-1.699131</td>\n",
       "      <td>Dysentry</td>\n",
       "    </tr>\n",
       "    <tr>\n",
       "      <th>3</th>\n",
       "      <td>1.507116</td>\n",
       "      <td>1</td>\n",
       "      <td>-0.550595</td>\n",
       "      <td>0.129914</td>\n",
       "      <td>Dengue</td>\n",
       "    </tr>\n",
       "    <tr>\n",
       "      <th>4</th>\n",
       "      <td>-0.557627</td>\n",
       "      <td>0</td>\n",
       "      <td>-1.510308</td>\n",
       "      <td>0.951426</td>\n",
       "      <td>Hepatitis</td>\n",
       "    </tr>\n",
       "  </tbody>\n",
       "</table>\n",
       "</div>"
      ],
      "text/plain": [
       "        Age  Sex  Latitude  Longitude  Prediction\n",
       "0 -0.749946    1  0.682598   0.312830  Dermatitis\n",
       "1 -0.746041    1  0.691419   0.304962  Dermatitis\n",
       "2  0.546498    0  0.686886  -1.699131    Dysentry\n",
       "3  1.507116    1 -0.550595   0.129914      Dengue\n",
       "4 -0.557627    0 -1.510308   0.951426   Hepatitis"
      ]
     },
     "execution_count": 19,
     "metadata": {},
     "output_type": "execute_result"
    }
   ],
   "source": [
    "test.head()"
   ]
  },
  {
   "cell_type": "code",
   "execution_count": 20,
   "metadata": {
    "collapsed": true
   },
   "outputs": [],
   "source": [
    "from twilio.rest import Client\n",
    "\n",
    "account = \"AC7916179cce80230eeec1c380fdf17d0a\"\n",
    "token = \"0300c379bf9474ee5604c23a61c8a0ec\"\n",
    "client = Client(account, token)\n",
    "\n",
    "\n",
    "dengue_msg = '''hello-SMS\\nNamaste! \n",
    "Dengue cases are rising in your locality, hence it is advised to take necessary actions like removing stagnant \n",
    "water and wearing clothes that cover your skin. Stay alert and safe!'''\n",
    "\n",
    "\n",
    "message = client.messages.create(to=\"+917836913485\", from_=\"+18434746681\",\n",
    "                                 body=dengue_msg)"
   ]
  }
 ],
 "metadata": {
  "kernelspec": {
   "display_name": "Python 3",
   "language": "python",
   "name": "python3"
  },
  "language_info": {
   "codemirror_mode": {
    "name": "ipython",
    "version": 3
   },
   "file_extension": ".py",
   "mimetype": "text/x-python",
   "name": "python",
   "nbconvert_exporter": "python",
   "pygments_lexer": "ipython3",
   "version": "3.5.3"
  }
 },
 "nbformat": 4,
 "nbformat_minor": 2
}
